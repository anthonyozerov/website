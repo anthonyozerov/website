{
 "cells": [
  {
   "cell_type": "code",
   "execution_count": 1,
   "id": "robust-coverage",
   "metadata": {},
   "outputs": [],
   "source": [
    "import pandas as pd\n",
    "import requests"
   ]
  },
  {
   "cell_type": "code",
   "execution_count": 2,
   "id": "boxed-canon",
   "metadata": {},
   "outputs": [],
   "source": [
    "r=requests.get(\"https://www.opensecrets.org/personal-finances/top-net-worth\")\n",
    "df=pd.DataFrame(pd.read_html(r.text)[0])"
   ]
  },
  {
   "cell_type": "code",
   "execution_count": 3,
   "id": "german-albert",
   "metadata": {},
   "outputs": [],
   "source": [
    "df[\"Average\"] = df[\"Average\"].replace('[\\$,]', '', regex=True).astype(float)"
   ]
  },
  {
   "cell_type": "code",
   "execution_count": 4,
   "id": "antique-lucas",
   "metadata": {},
   "outputs": [],
   "source": [
    "dem=df[df['Name'].str.contains(\"D-\")]\n",
    "rep=df[df['Name'].str.contains(\"R-\")]"
   ]
  },
  {
   "cell_type": "code",
   "execution_count": 5,
   "id": "industrial-marble",
   "metadata": {},
   "outputs": [
    {
     "name": "stdout",
     "output_type": "stream",
     "text": [
      "Median for Democrat members of Congress:   $1165006.5\n",
      "Median for Republican members of Congress: $1191022.0\n"
     ]
    }
   ],
   "source": [
    "print(\"Median for Democrat members of Congress:   $\"+str(dem[\"Average\"].median()))\n",
    "print(\"Median for Republican members of Congress: $\"+str(rep[\"Average\"].median()))"
   ]
  }
 ],
 "metadata": {
  "kernelspec": {
   "display_name": "Python 3",
   "language": "python",
   "name": "python3"
  },
  "language_info": {
   "codemirror_mode": {
    "name": "ipython",
    "version": 3
   },
   "file_extension": ".py",
   "mimetype": "text/x-python",
   "name": "python",
   "nbconvert_exporter": "python",
   "pygments_lexer": "ipython3",
   "version": "3.8.5"
  }
 },
 "nbformat": 4,
 "nbformat_minor": 5
}
